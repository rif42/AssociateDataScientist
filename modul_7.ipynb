{
  "cells": [
    {
      "cell_type": "markdown",
      "metadata": {},
      "source": [
        "# Transformasi Data  \n",
        "Transformasi Data adalah proses pembuatan atau modifikasi variabel atau fitur dari sebuah dataset untuk membuat dataset lebih mudah digunakan dan atau lebih akurat, sehingga dapat membuat model yang lebih akurat.  \n",
        "\n",
        "Konstruksi Data dibagi menjadi empat aktivitas utama, yaitu:  \n",
        "- Rekayasa Fitur  \n",
        "- Imputasi  \n",
        "- Handling Outlier  \n",
        "- Dokumentasi Fitur  \n",
        "\n",
        "## RekayasaFitur  \n",
        "Rekayasa fitur adalah proses penambahan atau modifikasi fitur dengan mengaplikasikan penghitungan matematik, statistika, atau pengetahuan terhadap fitur.   \n",
        "\n",
        "Sebagai contoh, anda dapat membuat fitur baru bernama average atau rata rata yang mengambil nilai dari fitur-fitur lain. Atau anda dapat membuat fitur kategori baru dengan mengolah data dari fitur-fitur lain.  \n",
        "\n",
        "Diharapkan fitur-fitur yang di modifikasi atau ditambah dapat menambah kualitas dataset sehingga dapat menghasilkan model yang lebih akurat dan efisien.  \n",
        "\n",
        "### Hands On Coding  \n",
        "Kita akan melakukan proses feature enginnering ke sebuah dataset dibawah ini   \n",
        "Jangan lupa untuk menginstall library pandas menggunakan command `pip install pandas`\n"
      ],
      "id": "50e13516"
    },
    {
      "cell_type": "code",
      "metadata": {},
      "source": [
        "import plotly.express as px\n",
        "from sklearn.impute import KNNImputer\n",
        "from keras.optimizers import Adam\n",
        "from keras.layers import Dense\n",
        "from keras.models import Sequential\n",
        "from scipy.stats import pearsonr\n",
        "import math\n",
        "import numpy as np\n",
        "import matplotlib.pyplot as plt\n",
        "import pandas as pd\n",
        "df = pd.DataFrame({'Country': ['Afghanistan', 'Cameroon', 'Indonesia', 'Guatemala'], 'UrbanPopulation': [10142913, 15248270, 153983073,\n",
        "                  8738685], 'RuralPopulation': [28829316, 11242817, 117874900, 8119648], 'SlumPopulation': [7434756, 4981883, 29889391, 3285745]})\n",
        "df.head()"
      ],
      "id": "4664ded7",
      "execution_count": null,
      "outputs": []
    },
    {
      "cell_type": "markdown",
      "metadata": {},
      "source": [
        "Dataset ini mempunyai 4 fitur:  \n",
        "- Country, Nama negara  \n",
        "- UrbanPopulation, populasi manusia yang hidup di daerah urban (perumahan kota)  \n",
        "- RuralPopulation, populasi manusia yang hidup di daerah rural (pinggiran kota)  \n",
        "- SlumPopulation, populasi manusia yang hidup di daerah slum (pemukiman kumuh)  \n",
        "\n",
        "Pertama kita akan menghitung presentase jumlah populasi yang hidup di slum (pemukiman kumuh) dari populasi yang hidup di urban (perumahan kota). Nilai ini didapat menggunakan rumus:  \n",
        "\n",
        "$$\n",
        "SlumPrecentage = \\dfrac{SlumPopulation}{UrbanPopulation} * 100\n",
        "$$\n"
      ],
      "id": "a87d70a7"
    },
    {
      "cell_type": "code",
      "metadata": {},
      "source": [
        "df['SlumPopulation'] = round(\n",
        "    (df['SlumPopulation']/(df['UrbanPopulation']))*100, 2)\n",
        "df.head()"
      ],
      "id": "d05014e7",
      "execution_count": null,
      "outputs": []
    },
    {
      "cell_type": "markdown",
      "metadata": {},
      "source": [
        "Selanjutnya, kita menggabungkan dua fitur (urban dan rural) menjadi satu, dan mengubah nilainya dari jumlah penduduk ke presentase penduduk. Rumusnya cukup simple:  \n",
        "\n",
        "$$\n",
        "UrbanPrecentage = \\dfrac{UrbanPopulation}{UrbanPopulation+RuralPopulation} * 100\n",
        "$$\n"
      ],
      "id": "a93d461d"
    },
    {
      "cell_type": "code",
      "metadata": {},
      "source": [
        "df['UrbanPopulation'] = round(\n",
        "    (df['UrbanPopulation']/(df['UrbanPopulation']+df['RuralPopulation']))*100, 2)\n",
        "df.head()"
      ],
      "id": "e23f86c4",
      "execution_count": null,
      "outputs": []
    },
    {
      "cell_type": "markdown",
      "metadata": {},
      "source": [
        "Dan untuk sentuhan akhir, kita akan hapus kolom SlumPopulation karena nilainya sudah ter-representasikan di kolom UrbanPopulation\n"
      ],
      "id": "a796f3c0"
    },
    {
      "cell_type": "code",
      "metadata": {},
      "source": [
        "df = df.drop(columns=['RuralPopulation'])\n",
        "df.head()"
      ],
      "id": "258b10cd",
      "execution_count": null,
      "outputs": []
    },
    {
      "cell_type": "markdown",
      "metadata": {},
      "source": [
        "Hasilnya, nilai atau value di dataset lebih mudah dibaca, dan dapat direpresentasikan menggunakan fitur yang lebih sedikit. Dataset sudah siap untuk diproses lebih lanjut.\n",
        "\n",
        "\n",
        "## Imputasi  \n",
        "Imputasi adalah proses penggantian nilai data yang hilang dengan data yang baru. Seperti contoh rekayasa fitur sebelumnya, nilai NaN termasuk data yang perlu kita olah.  \n",
        "\n",
        "Dalam bab ini kita akan mempelajari beberapa hal terkait imputasi antara lain:\n",
        "- Jenis-jenis imputasi  \n",
        "- Teknik imputasi  \n",
        "\n",
        "### Jenis-jenis Imputasi  \n",
        "Jenis data yang hilang dikelompokkan menjadi 3, yaitu\n",
        "- Missing completely at random  (MCAR)\n",
        "- Missing at random  (MAR)\n",
        "- Missing not at random  (MNAR)\n",
        "\n",
        "![Gambar1. Jenis-jenis Imputasi](./1.imputation.png)\n",
        "\n",
        "#### Missing Completely At Random (MCAR)  \n",
        "Jika probabilitas hilangnya data dalam suatu fitur **sama antara satu data dengan yang lain**. Asumsi ini dapat diuji dengan memisahkan data yang hilang dan yang lengkap serta memeriksa karakteristik data. Jika karakteristik data tidak sama untuk kedua fitur, asumsi MCAR tidak berlaku\n",
        "\n",
        "![Gambar2. Contoh MCAR](./2.mcar.png)\n",
        "\n",
        "#### Missing At Random (MAR)  \n",
        "Kemungkinan data yang hilang **dipengaruhi oleh variabel lain, namun tidak dipengaruhi oleh variabel yang hilang**. Sebagai contoh, untuk data di samping, hanya peserta dengan umur yang dibawah 31 yang nilainya hilang. Berarti fitur age mempengaruhi probabilitas missing data IQ score.\n",
        "\n",
        "![Gambar3. Contoh MAR](./3.mar.png)\n",
        "\n",
        "### Missing Not At Random   \n",
        "Kemungkinan data yang hilang **tidak dipengaruhi oleh fitur lain, namun  dipengaruhi oleh fitur pada data yang hilang**. Sebagai contoh, untuk data di samping, ada kemungkinan bahwa data IQ score yang hilang hanya data yang nilainya dibawah 110. Sedangkan variabel age tidak berpengaruh atas hilangnya data IQ score karena age yang kecil dan besar sama sama mempunyai data yang hilang\n",
        "\n",
        "![Gambar4. Contoh MNAR](./4.mnar.png)\n",
        "\n",
        "### Teknik-Teknik Imputasi  \n",
        "Perlu diingat bahwa jika 70% data hilang/missing, maka semua fitur(kolom) dan data (row) harus dihapus.  \n",
        "\n",
        "![Gambar5. Flow Proses Imputasi](./5.imp.png)  \n",
        "\n",
        "Data yang hilang harus dimutasikan berdasarkan jenis datanya, yaitu :  \n",
        "\n",
        "**Numerik**  \n",
        "- Mean/Median  \n",
        "- Arbitrary  \n",
        "- End of tail  \n",
        "- Regresi  \n",
        "- KNN  \n",
        "\n",
        "**Kategorik**  \n",
        "- Frequent/Modus  \n",
        "- KNN  \n",
        "\n",
        "#### Mean  \n",
        "Dataset imputasi mean adalah metode untuk mengisi nilai yang hilang dalam dataset dengan menggunakan nilai rata-rata (mean) dari variabel yang bersangkutan. Ketika ada nilai yang hilang dalam suatu variabel dalam dataset, imputasi mean menggantikan nilai-nilai yang hilang tersebut dengan nilai rata-rata dari seluruh nilai yang ada dalam variabel tersebut.\n",
        "\n",
        "**Kelebihan**  \n",
        "- Mudah dan cepat.  \n",
        "- Bekerja efektif untuk dataset numerik berukuran kecil.  \n",
        "- Cocok untuk variabel numerik.  \n",
        "- Cocok untuk data missing completely at random (MCAR).  \n",
        "- Dapat digunakan dalam produksi (mis. dalam model deployment)  \n",
        "\n",
        "**Kekurangan**  \n",
        "- Tidak memperhitungkan korelasi antar fitur, berfungsi pada tingkat kolom.  \n",
        "- Kurang akurat.  \n",
        "- Tidak memperhitungkan probabilitas/ketidakpastian.    \n",
        "- Tidak cocok utk >5% missing data.  \n",
        "\n",
        "##### Hands On Coding  \n",
        "Pertama kita akan buat sebuah dataset menggunakan pandas dataframe\n"
      ],
      "id": "35ae8444"
    },
    {
      "cell_type": "code",
      "metadata": {},
      "source": [
        "# buat dataset dengan format dataframe\n",
        "df = pd.DataFrame({'age': [25, 26, 29, 30, 30, 31, 44, 46],\n",
        "                   'IQ': [np.NaN, 121, 91, np.NaN, 110, np.NaN, 118, 93]})\n",
        "display(df)"
      ],
      "id": "2533eff7",
      "execution_count": null,
      "outputs": []
    },
    {
      "cell_type": "markdown",
      "metadata": {},
      "source": [
        "Lalu kita akan hitung mean atau rata rata dari dataset  \n"
      ],
      "id": "86ef026b"
    },
    {
      "cell_type": "code",
      "metadata": {},
      "source": [
        "mean = df['IQ'].mean()\n",
        "print(f'Mean: {mean}, dibulatkan menjadi {round(mean)}')\n",
        "display(df)"
      ],
      "id": "fba9c96f",
      "execution_count": null,
      "outputs": []
    },
    {
      "cell_type": "markdown",
      "metadata": {},
      "source": [
        "Lalu kita masukkan nilai mean tersebut ke data yang kosong  \n"
      ],
      "id": "3bbcb632"
    },
    {
      "cell_type": "code",
      "metadata": {},
      "source": [
        "# masukkan nilai mean ke missing value\n",
        "df['IQ'] = df['IQ'].fillna(round(mean))\n",
        "display(df)"
      ],
      "id": "1709bb61",
      "execution_count": null,
      "outputs": []
    },
    {
      "cell_type": "markdown",
      "metadata": {},
      "source": [
        "#### Arbiter  \n",
        "Teknik imputasi arbiter (arbiter imputation) adalah metode untuk mengisi nilai yang hilang dalam dataset dengan menggunakan hasil gabungan dari beberapa metode imputasi yang berbeda. Dalam metode ini, beberapa teknik imputasi yang berbeda diterapkan pada dataset yang sama, dan hasil dari setiap teknik imputasi digabungkan menjadi satu nilai yang digunakan untuk mengisi nilai yang hilang.\n",
        "\n",
        "**Kelebihan**\n",
        "- Sangat mudah dan cepat  \n",
        "- Cocok untuk missing dataset dengan asumsi tidak missing at random  \n",
        "\n",
        "**Kekurangan**\n",
        "- Mengganggu variansi dan distribusi variable original  \n",
        "- Dapat membentuk outlier  \n",
        "- Semakin besar nilai arbitrary, maka semakin besar distorsi  \n",
        "\n",
        "##### Hands On Coding  \n",
        "Kita akan gunakan dataset yang sama seperti sebelumnya  \n"
      ],
      "id": "0330946e"
    },
    {
      "cell_type": "code",
      "metadata": {},
      "source": [
        "# buat dataset dengan format dataframe\n",
        "df = pd.DataFrame({'age': [25, 26, 29, 30, 30, 31, 44, 46],\n",
        "                   'IQ': [np.NaN, 121, 91, np.NaN, 110, np.NaN, 118, 93]})\n",
        "display(df)"
      ],
      "id": "56bc76e1",
      "execution_count": null,
      "outputs": []
    },
    {
      "cell_type": "markdown",
      "metadata": {},
      "source": [
        "Cukup masukkan nilai arbiter ke data yang kosong. Dalam koding ini, nilai arbiter adalah 130.  \n"
      ],
      "id": "dbd5cb58"
    },
    {
      "cell_type": "code",
      "metadata": {},
      "source": [
        "df['IQ'] = df['IQ'].fillna(130)\n",
        "display(df)"
      ],
      "id": "42a0afbf",
      "execution_count": null,
      "outputs": []
    },
    {
      "cell_type": "markdown",
      "metadata": {},
      "source": [
        "#### End Of Tail\n",
        "\n",
        "Teknik imputasi end of tail adalah metode untuk mengisi nilai yang hilang dalam dataset dengan menggunakan nilai ekstrem (tail) dari distribusi data yang ada. Metode ini didasarkan pada asumsi bahwa nilai yang hilang cenderung berada di ekor distribusi data. Namun untuk teknik ini kita harus mengikuti sebuah ketentuan khusus, yaitu:  \n",
        "\n",
        "**Jika distribusi data bersifat normal, maka gunakan rumus :**  \n",
        "$$\n",
        "{\\sigma = \\sqrt{\\dfrac{\\Sigma |x-\\mu|^2}{N}}}\n",
        "$$\n",
        "\n",
        "**Jika distribusi data bersifat skewed, maka gunakan rumus IQR proximity**  \n",
        "$$\n",
        "{IQR = Q_{3} - Q_{1}}\n",
        "$$\n",
        "\n",
        "##### Distribusi Normal  \n",
        "Data yang terdistribusi secara normal, juga dikenal sebagai distribusi Gaussian atau kurva lonceng, mengacu pada distribusi statistik di mana titik-titik data secara simetris terdistribusi di sekitar nilai rata-rata, menciptakan kurva berbentuk lonceng yang khas.  \n",
        "Untuk menghitung data yg mempunyai distribusi normal, kita harus mengetahui standar deviasinya. Berikut rumus untuk menghitung standar deviasi :  \n",
        "$$\n",
        "{\\mu + 3 * \\sigma}\n",
        "$$\n",
        "Keterangan:  \n",
        "**σ** = Standar Deviasi  \n",
        "**Σ** = jumlah  \n",
        "**x** = data yang dihitung  \n",
        "**μ** = Mean/rata rata  \n",
        "**N** = Jumlah data  \n",
        "\n",
        "##### Distribusi Normal - Hands On Coding  \n",
        "Pertama kita akan buat sebuah dataset yang cukup besar jika dibandingkan dengan dataset yang diatas.  \n",
        "Jangan lupa untuk menginstall library yang dibutuhkan :  \n",
        "- `pip install numpy`  \n",
        "- `pip install pandas`  \n",
        "- `pip install matplotlib`  \n",
        "- `pip install keras`\n",
        "- `pip install tensorflow`\n"
      ],
      "id": "5b88c74d"
    },
    {
      "cell_type": "code",
      "metadata": {},
      "source": [
        "age = [25, 26, 29, 30, 30, 31, 44, 46, 22, 33,\n",
        "       35, 27, 21, 23, 45, 47, 41, 38, 37, 21, 24]\n",
        "data = [85, 90, 95, 95, 100, np.nan, 100, 110, 105, 105, 110,\n",
        "        np.nan, 110, 110, 115, 115, 115, 120, np.nan, 125, 130]\n",
        "\n",
        "# make a dataframe\n",
        "df = pd.DataFrame({'age': age, 'IQ': data})\n",
        "display(df)"
      ],
      "id": "fe4c5dde",
      "execution_count": null,
      "outputs": []
    },
    {
      "cell_type": "markdown",
      "metadata": {},
      "source": [
        "Selanjutnya kita akan mengecek jenis distribusi data menggunakan library matplotlib\n"
      ],
      "id": "0c84d20e"
    },
    {
      "cell_type": "code",
      "metadata": {},
      "source": [
        "data = [85, 90, 95, 95, 100, np.nan, 100, 110, 105, 105, 110,\n",
        "        np.nan, 110, 110, 115, 115, 115, 120, np.nan, 125, 130]\n",
        "\n",
        "plt.hist(data, bins=5)\n",
        "plt.xlabel('Data')\n",
        "plt.ylabel('Frequency')\n",
        "plt.show()"
      ],
      "id": "5afbb611",
      "execution_count": null,
      "outputs": []
    },
    {
      "cell_type": "markdown",
      "metadata": {},
      "source": [
        "Dapat dilihat bahwa grafik histogram membentuk seperti gunung atau lonceng, dengan puncak tepat di tengah-tengah grafik. Inilah salah satu karakteristik dataset dengan distribusi normal.  \n",
        "\n",
        "Selanjutnya, kita akan mencari mean dari dataset\n"
      ],
      "id": "da5342b9"
    },
    {
      "cell_type": "code",
      "metadata": {},
      "source": [
        "# nilai kosong dihilangkan dari data terlebih dahulu\n",
        "data = [85, 90, 95, 95, 100, 100, 110, 105, 105,\n",
        "        110, 110, 110, 115, 115, 115, 120, 125, 130]\n",
        "mean = np.mean(data)\n",
        "print(f'Mean dari dataset adalah: ', mean)"
      ],
      "id": "545efb1c",
      "execution_count": null,
      "outputs": []
    },
    {
      "cell_type": "markdown",
      "metadata": {},
      "source": [
        "Lalu, kita akan menghitung jarak antara nilai x dan mean  \n"
      ],
      "id": "ebb9658f"
    },
    {
      "cell_type": "code",
      "metadata": {},
      "source": [
        "total = 0\n",
        "for i in data:\n",
        "    calc = (107.5-i)**2\n",
        "    total = total + calc\n",
        "\n",
        "print(f'jarak antara nilai x dan mean adalah ', total)"
      ],
      "id": "17d517da",
      "execution_count": null,
      "outputs": []
    },
    {
      "cell_type": "markdown",
      "metadata": {},
      "source": [
        "Mari kita hitung standar deviasi nya\n"
      ],
      "id": "cfc7618a"
    },
    {
      "cell_type": "code",
      "metadata": {},
      "source": [
        "# math.sqrt adalah fungsi untuk melakukan operasi akar pangkat\n",
        "# round adalah fungsi untuk membulatkan hasil operasi)\n",
        "stddev = round(math.sqrt(total/len(data)), 2)\n",
        "print(f'nilai standar deviasi adalah ', stddev)"
      ],
      "id": "15600e2e",
      "execution_count": null,
      "outputs": []
    },
    {
      "cell_type": "markdown",
      "metadata": {},
      "source": [
        "Hitung nilai imputasi End of Tail\n"
      ],
      "id": "3951b7d6"
    },
    {
      "cell_type": "code",
      "metadata": {},
      "source": [
        "imp = round(mean + 3 * stddev, 1)\n",
        "print(f'nilai imputasi end of tail adalah ', imp)"
      ],
      "id": "b04c7646",
      "execution_count": null,
      "outputs": []
    },
    {
      "cell_type": "markdown",
      "metadata": {},
      "source": [
        "<!-- ${\\Sigma|x-\\mu|^2 = (107.5-85)^2+(107.5-90)^2+(107.5-95)^2+(107.5-95)^2+(107.5-100)^2+(107.5-100)^2+(107.5-110)^2+(107.5-105)^2+(107.5-105)^2}$  \n",
        "\n",
        "${+(107.5-110)^2+(107.5-110)^2+(107.5-110)^2+(107.5-115)^2+(107.5-115)^2+(107.5-115)^2+(107.5-120)^2+(107.5-125)^2+(107.5-130)^2}$  \n",
        "\n",
        "${\\Sigma|x-\\mu|^2 = 506.25 + 306.25 + 156.25 + 156.25 + 56.25 + 56.25 + 6.25 + 6.25 + 6.25 + 6.25 + 6.25 + 6.25 + 56.25 + 56.25 + 56.25 + 156.25 + 306.25 + 506.25 }$  \n",
        "\n",
        "\n",
        "Kita akan hitung standar deviasinya  \n",
        "\n",
        "${\\Sigma|x-\\mu|^2 = 2412.5 }$  \n",
        "\n",
        "${\\sigma = \\sqrt{\\dfrac{2412.5}{18}} = 11.58}$  \n",
        "\n",
        "\n",
        "Hitung nilai imputasi End of Tail\n",
        "\n",
        "${= \\mu + 3 * \\sigma}$  \n",
        "\n",
        "${= 107.5 + 3 * 11.58}$   \n",
        "\n",
        "${= 142.24 \\sim 142.2}$ -->\n",
        "\n",
        "Dari kalkulasi nilai imputasi end of tail, diperoleh nilai 142.2.  \n",
        "Kita akan memasukkan nilai ini ke dalam dataset  \n"
      ],
      "id": "0e9b6639"
    },
    {
      "cell_type": "code",
      "metadata": {},
      "source": [
        "df['IQ'] = df['IQ'].fillna(imp)\n",
        "display(df)"
      ],
      "id": "485f05a9",
      "execution_count": null,
      "outputs": []
    },
    {
      "cell_type": "markdown",
      "metadata": {},
      "source": [
        "##### Distribusi Skewed\n",
        "\n",
        "Distribusi skew atau skewness mengacu pada karakteristik asimetri dalam distribusi data. Dalam distribusi skew, ekor distribusi data cenderung condong ke salah satu sisi, baik ke kanan (positif) atau ke kiri (negatif), dibandingkan dengan pusat distribusi.\n",
        "\n",
        "**Dalam distribusi skew positif**, ekor distribusi condong ke kanan, sementara nilai-nilai yang lebih kecil cenderung berada di sebelah kiri. Ini menghasilkan ekor yang panjang di sisi kanan distribusi.  \n",
        "![Gambar7. Contoh Distribusi Skewed Positif](./7.skewpositive.png)\n",
        "\n",
        "**Dalam distribusi skew negatif**, ekor distribusi condong ke kiri, dengan nilai-nilai yang lebih besar cenderung berada di sebelah kiri. Ini menghasilkan ekor yang panjang di sisi kiri distribusi. Nilai rata-rata akan lebih kecil daripada median dalam distribusi ini.  \n",
        "![Gambar8. Contoh Distribusi Skewed Negative](./8.skewnegative.png)\n",
        "\n",
        "##### Distribusi Skewed - Hands On Coding  \n",
        "Pertama-tama mari kita buat data baru yang terdiri dari 21 data dengan 3 missing value. Tugas kita adalah mengisi missing value dengan imputasi end of tail.  \n"
      ],
      "id": "5e13d26e"
    },
    {
      "cell_type": "code",
      "metadata": {},
      "source": [
        "age = [25, 26, 29, 30, 30, 31, 44, 46, 22, 33,\n",
        "       35, 27, 21, 23, 45, 47, 41, 38, 37, 21, 24]\n",
        "data = [125, 130, 125, 95, 115, np.nan, 100, np.nan, 130, 110,\n",
        "        90, 110, 120, 115, 105, 85, 115, 110, 120, 100, np.nan]\n",
        "\n",
        "df = pd.DataFrame({'age': age, 'IQ': data})\n",
        "display(df)"
      ],
      "id": "3f74030d",
      "execution_count": null,
      "outputs": []
    },
    {
      "cell_type": "markdown",
      "metadata": {},
      "source": [
        "Selanjutnya kita akan mengecek jenis distribusi data menggunakan library matplotlib  \n"
      ],
      "id": "df1929e7"
    },
    {
      "cell_type": "code",
      "metadata": {},
      "source": [
        "data = [125, 130, 125, 95, 115, 100, 130, 110, 90,\n",
        "        110, 120, 115, 105, 85, 115, 110, 120, 100]\n",
        "\n",
        "fig = px.histogram(df, x='IQ')\n",
        "fig.show()"
      ],
      "id": "8c0c30a1",
      "execution_count": null,
      "outputs": []
    },
    {
      "cell_type": "markdown",
      "metadata": {},
      "source": [
        "Distribusi data adalah skew negatif karena puncak dari data berada di sebelah kanan titik tengah. Mari kita hitung nilai imputasi menggunakan rumus IQR. \n",
        "\n",
        "Inter-Quartile-Range (IQR) adalah sebuah nilai yang digunakan untuk mengukur sebaran data dalam sebuah distribusi.\n",
        "\n",
        "${IQR = Q_{3} - Q_{1}}$  \n",
        "\n",
        "${IQR_{max} = Q_{3} + 3 * IQR}$  \n",
        "\n",
        "${IQR_{min} = Q_{1} + 3 * IQR}$  \n",
        "\n",
        "Pertama-tama, kita akan hitung nilai precentile dari dataset, yang dapat kita kalkulasi dengan mudah menggunakan fungsi np.precentile dari library numpy.  \n"
      ],
      "id": "d1addcee"
    },
    {
      "cell_type": "code",
      "metadata": {},
      "source": [
        "median = np.median(data)\n",
        "q1 = np.percentile(data, 25)\n",
        "q3 = np.percentile(data, 75)\n",
        "\n",
        "print(f'Median: {median}')\n",
        "print(f'Q1: {q1}')\n",
        "print(f'Q3: {q3}')"
      ],
      "id": "dc8bcd54",
      "execution_count": null,
      "outputs": []
    },
    {
      "cell_type": "markdown",
      "metadata": {},
      "source": [
        "Lalu kita akan menghitung nilai IQR, IQRmin, dan IQRmax\n"
      ],
      "id": "a687b329"
    },
    {
      "cell_type": "code",
      "metadata": {},
      "source": [
        "iqr = q3 - q1\n",
        "iqrmin = q1 + 3 * iqr\n",
        "iqrmax = q3 + 3 * iqr\n",
        "\n",
        "print(f'IQR: {iqr}')\n",
        "print(f'IQRmin: {iqrmin}')\n",
        "print(f'IQRmax: {iqrmax}')"
      ],
      "id": "8bab0169",
      "execution_count": null,
      "outputs": []
    },
    {
      "cell_type": "markdown",
      "metadata": {},
      "source": [
        "Anda boleh memilih nilai diantara IQRmin dan IQRmax. Namun untuk contoh ini, kita akan ambil nilai IQRmax saja, lalu kita masukkan ke dataset.\n"
      ],
      "id": "42f9bbee"
    },
    {
      "cell_type": "code",
      "metadata": {},
      "source": [
        "df['IQ'] = df['IQ'].fillna(iqrmax)\n",
        "display(df)"
      ],
      "id": "c8d60aea",
      "execution_count": null,
      "outputs": []
    },
    {
      "cell_type": "markdown",
      "metadata": {},
      "source": [
        "#### Regresi Linier  \n",
        "Teknik imputasi regresi adalah metode untuk mengisi nilai kosong menggunakan algoritma regresi. Algoritma regresi akan memprediksi nilai kosong berdasarkan hubungan fitur nilai kosong dengan fitur lainnya. \n",
        "\n",
        "**Kelebihan**\n",
        "- Sederhana dan mudah dipahami  \n",
        "- Menggabungkan hubungan antar variabel  \n",
        "- Cocok untuk data yang besar dan bersifat numerik  \n",
        "\n",
        "**Kekurangan**\n",
        "- Hanya berlaku untuk data yang linear  \n",
        "- Sensitif terhadap outlier  \n",
        "- Tidak dapat menangani data non-numerik  \n",
        "- Bergantung kepada dua fitur  \n",
        "\n",
        "##### Regresi Linier - Hands On Coding  \n",
        "Kelemahan utama dari teknik regresi ini adalah dataset harus mempunyai distribusi linear. Mengambil contoh dataset age (umur) dan IQ, Jika dataset tersebut adalah linear, semakin tinggi umur seseorang, maka semakin tinggi IQ orang tersebut.  \n",
        "\n",
        "Maka dari itu, kita harus mengecek jenis data yang akan kita kerjakan, apakah data tersebut bersifat linear atau tidak.  Untuk mengecek dataset, kita gunakan grafik scatter plot.  \n"
      ],
      "id": "bd2d38fa"
    },
    {
      "cell_type": "code",
      "metadata": {},
      "source": [
        "age = [25, 26, 29, 30, 30, 31, 44, 46, 22, 33,\n",
        "       35, 27, 21, 23, 45, 47, 41, 38, 37, 21, 24]\n",
        "data = [125, 130, 125, 95, 115, np.nan, 100, np.nan, 130, 110,\n",
        "        90, 110, 120, 115, 105, 85, 115, 110, 120, 100, np.nan]\n",
        "\n",
        "df = pd.DataFrame({'age': age, 'IQ': data})\n",
        "\n",
        "# hapus data NaN\n",
        "df = df.dropna()\n",
        "\n",
        "# buat grafik scatter\n",
        "fig = px.scatter(df, x='age', y='IQ',\n",
        "                 color='age', hover_data=['age', 'IQ'])\n",
        "fig.show()"
      ],
      "id": "7d13e031",
      "execution_count": null,
      "outputs": []
    },
    {
      "cell_type": "markdown",
      "metadata": {},
      "source": [
        "Secara garis besar, scatter plot membentuk sebuah garis diagonal dari pojok kiri atas ke pojok kiri bawah.  \n",
        "\n",
        "![Gambar9. Data bersifat Linear](./9.linear.png)\n",
        "\n",
        "Untuk menambah keyakinan kita bahwa dataset bersifat linear, kita dapat melakukan pengecekan dataset menggunakan pearson correllation. Kita harus menginstall library scipy terlebih dahulu dengan menjalankan perintah `pip install scipy` di terminal atau command prompt.  \n",
        "\n",
        "Pearson correlation adalah sebuah rumus yang berfungsi untuk menghitung kekuatan dan arah hubungan antara dua variable.  nilai -1 mengindikasikan bahwa korelasi bersifat negatif, semakin kecil nilai variable x, maka nilai variable y akan semakin besar.  nilai 0 mengindikasikan bahwa tidak ada korelasi linear antara variable.  nilai 1 mengindikasikan bahwa korelasi bersifat positif.  \n"
      ],
      "id": "5c82c1c8"
    },
    {
      "cell_type": "code",
      "metadata": {},
      "source": [
        "corr, _ = pearsonr(df['age'], df['IQ'])\n",
        "print(f'Pearsons correlation: {round(corr,2)}')"
      ],
      "id": "991d30b6",
      "execution_count": null,
      "outputs": []
    },
    {
      "cell_type": "markdown",
      "metadata": {},
      "source": [
        "nilai pearson -0.53 menandakan bahwa hubungan antara variabel umur dan iq adalah linear negatif yang mempunyai intensitas lemah.\n",
        "\n",
        "Selanjutnya, kita akan membuat model regresi. Sebelumnya, kita harus menginstall library keras dengan cara menjalankan perintah `pip install keras` di terminal atau command prompt.  \n"
      ],
      "id": "f198f5aa"
    },
    {
      "cell_type": "code",
      "metadata": {},
      "source": [
        "model = Sequential()\n",
        "model.add(Dense(1, input_shape=(1,)))\n",
        "model.compile(Adam(learning_rate=0.8), 'mean_squared_error')\n",
        "\n",
        "model.fit(df['age'], df['IQ'], epochs=1000, verbose=0)\n",
        "\n",
        "pred = model.predict(df['age'])\n",
        "\n",
        "plt.scatter(df['age'], df['IQ'])\n",
        "plt.plot(df['age'], pred, color='red')\n",
        "plt.xlabel('Age')\n",
        "plt.ylabel('IQ')\n",
        "plt.show()"
      ],
      "id": "ea4addbd",
      "execution_count": null,
      "outputs": []
    },
    {
      "cell_type": "markdown",
      "metadata": {},
      "source": [
        "Lalu buat hasil prediksi dari model regresi. Nilai yang kosong adalah IQ dengan umur 27, 31, dan 37. Maka kita masukkan ketiga nilai tersebut ke model untuk di prediksi nilai IQ nya.  \n"
      ],
      "id": "55a90288"
    },
    {
      "cell_type": "code",
      "metadata": {},
      "source": [
        "hasilprediksi = model.predict([27, 31, 37]).round(0).astype(int)\n",
        "print(hasilprediksi)"
      ],
      "id": "ec48ffe7",
      "execution_count": null,
      "outputs": []
    },
    {
      "cell_type": "markdown",
      "metadata": {},
      "source": [
        "Hasil prediksi menunjukkan angka 115, 112, dan 107. Maka kita akan masukkan nilai IQ tersebut kedalam dataset\n"
      ],
      "id": "d16cef52"
    },
    {
      "cell_type": "code",
      "metadata": {},
      "source": [
        "age = [25, 26, 29, 30, 30, 31, 44, 46, 22, 33,\n",
        "       35, 27, 21, 23, 45, 47, 41, 38, 37, 21, 24]\n",
        "data = [125, 130, 125, 95, 115, np.nan, 100, np.nan, 130, 110,\n",
        "        90, 110, 120, 115, 105, 85, 115, 110, 120, 100, np.nan]\n",
        "\n",
        "data[5] = hasilprediksi[0][0]\n",
        "data[7] = hasilprediksi[1][0]\n",
        "data[20] = hasilprediksi[2][0]\n",
        "df = pd.DataFrame({'age': age, 'IQ': data})\n",
        "display(df)"
      ],
      "id": "6cfbda26",
      "execution_count": null,
      "outputs": []
    },
    {
      "cell_type": "markdown",
      "metadata": {},
      "source": [
        "#### Frequent  \n",
        "Imputasi frequent adalah teknik imputasi yang hanya bisa digunakan di jenis data kategorik. Kita mengambil nilai kategorik yang paling sering muncul, dan memasukkannya ke data yang kosong. \n",
        "\n",
        "**Kelebihan**\n",
        "- Cocok untuk data dengan missing at random.  \n",
        "- Mudah dan cepat diterapkan.  \n",
        "- Cocok utk data yang memiliki skew  \n",
        "- Dapat digunakan dalam produksi (mis. dalam model deployment).  \n",
        "\n",
        "**Kelemahan**\n",
        "- Mendistorsi relasi label dengan frekuensi tertinggi vs variabel lain.  \n",
        "- Menghasilkan over-representation jika banyak data yang missing.  \n",
        "\n",
        "##### Frequent - Hands On Coding\n",
        "\n",
        "Langkah pertama adalah memuat dataset yang mempunyai jenis data kategorik. Oleh karena itu, fitur IQ kita ganti oleh nilai 'rendah', 'sedang', dan 'tinggi'\n"
      ],
      "id": "6b3691f5"
    },
    {
      "cell_type": "code",
      "metadata": {},
      "source": [
        "age = [25, 26, 29, 30, 30, 31, 44, 46, 22, 33,\n",
        "       35, 27, 21, 23, 45, 47, 41, 38, 37, 21, 24]\n",
        "IQ = ['rendah', 'sedang', 'sedang', np.nan, 'sedang', 'rendah', np.nan, 'tinggi', 'sedang', 'sedang',\n",
        "      'rendah', 'sedang', 'tinggi', 'sedang', np.nan, 'rendah', 'tinggi', 'sedang', 'tinggi', 'rendah', 'tinggi']\n",
        "\n",
        "df = pd.DataFrame({'age': age, 'IQ': IQ})\n",
        "display(df)"
      ],
      "id": "0e01d927",
      "execution_count": null,
      "outputs": []
    },
    {
      "cell_type": "markdown",
      "metadata": {},
      "source": [
        "Lalu kita hitung frekuensi dari data kategorik \n"
      ],
      "id": "03338ea7"
    },
    {
      "cell_type": "code",
      "metadata": {},
      "source": [
        "freq = df['IQ'].value_counts()\n",
        "print(freq)"
      ],
      "id": "60698b33",
      "execution_count": null,
      "outputs": []
    },
    {
      "cell_type": "markdown",
      "metadata": {},
      "source": [
        "Kategori sedang mempunyai frekuensi paling tinggi dengan nilai 8. Jadi, nilai imputasi yang akan kita gunakan adalah ‘sedang’\n",
        "\n",
        "Selanjutnya, kita masukkan data 'sedang' ke dataset.\n"
      ],
      "id": "1cf2a571"
    },
    {
      "cell_type": "code",
      "metadata": {},
      "source": [
        "df['IQ'] = df['IQ'].fillna('sedang')\n",
        "display(df)"
      ],
      "id": "5a31ad12",
      "execution_count": null,
      "outputs": []
    },
    {
      "cell_type": "markdown",
      "metadata": {},
      "source": [
        "#### K-Nearest Neighbor (KNN)  \n",
        "Imputasi menggunakan K-Nearest Neighbors (KNN) adalah sebuah metode untuk mengisi data kosong dengan mempertimbangkan nilai terdekat dari fitur lain di kategori yang sama.\n",
        "\n",
        "**Kelebihan** \n",
        "- Lebih akurat vs mean/median/most frequent.  \n",
        "\n",
        "**Kekurangan**\n",
        "- Biaya komputasi mahal (karena KNN bekerja dengan menyimpan seluruh dataset pelatihan dalam memori).  \n",
        "-Sensitif terhadap outlier dalam data (tidak seperti SVM).  \n",
        "\n",
        "##### K-Nearest Neighbor (KNN) - Hands On Coding  \n",
        "Dataset yang kita gunakan sama dengan contoh diatas  \n"
      ],
      "id": "dadde685"
    },
    {
      "cell_type": "code",
      "metadata": {},
      "source": [
        "age = [25, 26, 29, 30, 30, 31, 44, 46, 22, 33,\n",
        "       35, 27, 21, 23, 45, 47, 41, 38, 37, 21, 24]\n",
        "IQ = ['rendah', 'sedang', 'sedang', np.nan, 'sedang', 'rendah', np.nan, 'tinggi', 'sedang', 'sedang',\n",
        "      'rendah', 'sedang', 'tinggi', 'sedang', np.nan, 'rendah', 'tinggi', 'sedang', 'tinggi', 'rendah', 'tinggi']\n",
        "\n",
        "df = pd.DataFrame({'age': age, 'IQ': IQ})\n",
        "display(df)"
      ],
      "id": "450c96af",
      "execution_count": null,
      "outputs": []
    },
    {
      "cell_type": "markdown",
      "metadata": {},
      "source": [
        "Algoritma KNN tidak bisa menghitung data berjenis string, maka kita harus konversi dari string (huruf/kata) ke integer (angka). \n"
      ],
      "id": "41a963b5"
    },
    {
      "cell_type": "code",
      "metadata": {},
      "source": [
        "df['IQ'] = df['IQ'].map({'rendah': 1, 'sedang': 2, 'tinggi': 3})\n",
        "display(df)"
      ],
      "id": "33dfea14",
      "execution_count": null,
      "outputs": []
    },
    {
      "cell_type": "markdown",
      "metadata": {},
      "source": [
        "Lalu kita membuat model KNN. Hasil dari KNN bisa langsung dimasukkan ke dataset.\n"
      ],
      "id": "040c9db7"
    },
    {
      "cell_type": "code",
      "metadata": {},
      "source": [
        "imputer = KNNImputer(n_neighbors=3)\n",
        "# isi missing value dengan KNN, lalu dibulatkan\n",
        "df = pd.DataFrame(np.round(imputer.fit_transform(df)), columns=df.columns)\n",
        "display(df)"
      ],
      "id": "2a9c00aa",
      "execution_count": null,
      "outputs": []
    },
    {
      "cell_type": "markdown",
      "metadata": {},
      "source": [
        "#### Kesimpulan\n",
        "\n",
        "-  Sebelum melakukan imputasi kita harus mengetahui jenis missing data, tipe data, dan distribusi data  \n",
        "-  Tidak ada metode imputasi yang sempurna, masing masing teknik mempunyai kelebihan dan kelemahan yang unik  \n",
        "-  Distribusi data sangat berpengaruh terhadap efisiensi imputasi  \n",
        "-  Imputasi dapat dilakukan menggunakan function dari library sklearn, feature_engine, dan keras. Namun akan jauh lebih baik jika kita menghitung/coding secara manual untuk mengetahui cara kerja algoritma tsb sebelum menggunakan function dari library.  \n",
        "\n",
        "## Handling Outlier  \n",
        "Outlier adalah sebuah data yang mempunyai pola atau letak yang menyimpang sangat jauh dari rata rata dataset atau pola yang diharapkan dari sebuah dataset.  \n",
        "\n",
        "Outlier dapat terjadi karena berbagai alasan, seperti kesalahan pengukuran, kesalahan entri data, variasi alami, atau peristiwa langka. Outlier dapat memiliki dampak signifikan pada analisis statistik, model pembelajaran mesin, dan interpretasi data, yang dapat mengarah pada hasil yang bias atau kesimpulan yang tidak akurat.  \n",
        "\n",
        "Outlier harus kita atasi agar data bisa kita proses secara efisien.\n",
        "\n",
        "### Deteksi Outlier \n",
        "Outlier dapat dideteksi menggunakan beberapa metode, antara lain \n",
        "\n",
        "#### Visualisasi\n",
        "Adalah sebuah teknik untuk memvisualisasikan sebuah data menjadi suatu bentuk yang dapat dilihat secara menyeluruh sehingga kita dapat menganalisa bentuk data, ukuran data, data point dan mendeteksi outlier.  \n",
        "\n",
        "Beberapa bentuk visualisasi yang sering digunakan untuk mendeteksi outlier yaitu\n",
        "- Histogram  \n",
        "- Scatter plot  \n",
        "- Box plot   \n",
        "\n",
        "Kita akan menggunakan library plotly express untuk melakukan visualisasi, jadi jangan lupa untuk menginstall plotly dengan menjalankan `pip install plotly` di terminal atau cmd\n",
        "\n",
        "Dataset yang kita gunakan adalah dataset lagu yang diambil dari spotify. Sumber dari dataset adalah https://www.kaggle.com/datasets/vatsalmavani/spotify-dataset\n",
        "\n",
        "Namun karena dataset ukurannya sangat besar, maka kita akan gunakan subset dataset berjumlah 100 data yang diambil secara random. Dataset versi ini dapat di download di https://github.com/rif42/AssociateDataScientist/blob/master/Module7-AssociateDataScientist/data_sampled_100.csv\n",
        "\n",
        "Jika sudah di download, masukkan data ke dalam directory lalu muat dataset tersebut. \n"
      ],
      "id": "a248ff00"
    },
    {
      "cell_type": "code",
      "metadata": {},
      "source": [
        "data = pd.read_csv('data_sampled_100.csv')\n",
        "data.head()"
      ],
      "id": "bbb0ff17",
      "execution_count": null,
      "outputs": []
    },
    {
      "cell_type": "markdown",
      "metadata": {},
      "source": [
        "Dataset ini berisi lagu-lagu yang ada di Spotify. Setiap lagu mempunyai fitur yang unik seperti popularitas, durasi, loudness, acousticness, speechiness, danceability, dll. Anda bisa melihat deskripsi data secara detail di \n",
        "https://developer.spotify.com/documentation/web-api/reference/get-several-audio-features\n",
        "\n",
        "Selanjutnya kita akan lakukan proses visualisasi data menggunakan plot histogram dengan library plotly. Fitur yang kita visualisasikan adalah loudness atau volume lagu terhadap popularitas dari lagu yang ada di dataset.\n",
        "\n",
        "Berikut diagram scatter plot dari dataset:  \n"
      ],
      "id": "ea19dbdc"
    },
    {
      "cell_type": "code",
      "metadata": {},
      "source": [
        "fig = px.scatter(data, x='loudness', y='popularity', color='loudness',\n",
        "                 hover_data=['artists', 'name', 'loudness', 'popularity'])\n",
        "fig.show()"
      ],
      "id": "6040d693",
      "execution_count": null,
      "outputs": []
    },
    {
      "cell_type": "markdown",
      "metadata": {},
      "source": [
        "Berikut diagram histogram dari dataset: \n"
      ],
      "id": "41fb6d18"
    },
    {
      "cell_type": "code",
      "metadata": {},
      "source": [
        "fig = px.histogram(data, x='loudness')\n",
        "fig.show()"
      ],
      "id": "ed781bbd",
      "execution_count": null,
      "outputs": []
    },
    {
      "cell_type": "markdown",
      "metadata": {},
      "source": [
        "Berikut diagram box plot dari dataset:  \n"
      ],
      "id": "d3759f2e"
    },
    {
      "cell_type": "code",
      "metadata": {},
      "source": [
        "fig = px.box(data, x='loudness')\n",
        "fig.show()"
      ],
      "id": "ed78e99f",
      "execution_count": null,
      "outputs": []
    },
    {
      "cell_type": "markdown",
      "metadata": {},
      "source": [
        "Ada beberapa data yang bisa disebut outlier, salah satunya adalah lagu `Thursday Afternoon - 2005 digital remaster, oleh Brian Eno` yang mempunyai nilai loudness `-31.8808`. Alasannya adalah tingkat loudness nya jauh lebih kecil daripada yang lain.\n",
        "\n",
        "\n",
        "\n",
        "### Kategori Outlier  \n",
        "Variate dan univariate adalah dua jenis data dalam statistik. Outlier adalah observasi atau nilai yang secara signifikan berbeda dari pola atau pola umum data yang lain.\n",
        "\n",
        "#### Variate Data  \n",
        "Variate data merujuk pada set data yang terdiri dari beberapa variabel atau fitur. Contoh umum variate data adalah dataset yang terdiri dari beberapa kolom, di mana setiap kolom mewakili variabel yang berbeda. Misalnya, jika kita memiliki dataset tentang mahasiswa yang mencakup variabel seperti tinggi, berat badan, dan usia, maka kita memiliki variate data. Outlier dalam variate data merujuk pada observasi atau nilai yang di luar kisaran yang diharapkan dalam setidaknya satu variabel.  \n",
        "\n",
        "#### Univariate Data  \n",
        "Univariate data merujuk pada set data yang hanya memiliki satu variabel atau fitur. Contoh umum univariate data adalah dataset yang hanya terdiri dari satu kolom, seperti data tinggi badan seseorang. Outlier dalam univariate data merujuk pada observasi atau nilai yang sangat ekstrem atau jauh dari rentang nilai yang diharapkan.\n"
      ],
      "id": "8963742c"
    },
    {
      "cell_type": "code",
      "metadata": {},
      "source": [
        "df = pd.DataFrame({'age': [25, 26, 29, 30, 30, 31, 44, 46],\n",
        "                   'IQ': [np.NaN, 121, 91, np.NaN, 110, np.NaN, 118, 93]})\n",
        "display(df)"
      ],
      "id": "71709c94",
      "execution_count": null,
      "outputs": []
    },
    {
      "cell_type": "markdown",
      "metadata": {},
      "source": [
        "Masih ingat contoh data di imputasi data diatas? Data berisi fitur umur dan nilai IQ. Masing masing fitur hanya mempunyai 1 buah nilai. Inilah yang dimaksud dengan univariate data; data di dalam fitur hanya mempunyai satu jenis nilai.\n",
        "\n",
        "\n",
        "### Mengatasi Outlier  \n",
        "Tidak semua outlier harus dihapus atau dihilangkan. Pada contoh data lagu di spotify, meskipun letaknya jauh dari yang lain,data ini masih valid sebagai lagu. Karena adalah lagu `Thursday Afternoon - 2005 digital remaster, oleh Brian Eno` mempunyai genre instrumental/ambient. Umumnya, tujuan utama genre ini adalah sebagai music background, sehingga tidak diperlukan vokal atau melodi yang keras.\n",
        "\n",
        "Namun terkadang outlier harus dihilangkan atau dihapus karena nilainya terlalu jauh dengan yang lain, yang dapat merubah value dari dataset secara keseluruhan, lalu dapat merubah hasil dari training data.  \n",
        "\n",
        "#### Discretization/Binning\n",
        "Discretization atau binning adalah proses mengubah data kontinu menjadi data diskrit dengan cara membagi rentang nilai kontinu menjadi beberapa interval atau kelompok yang disebut \"bin\" atau \"bucket\". Tujuan utama dari discretization adalah mengurangi kompleksitas data kontinu dengan mengelompokkan nilainya ke dalam kategori atau range tertentu.\n",
        "\n",
        "![Gambar10. Grafik Proses Binning Dataset](./10.binning.png)\n",
        "\n",
        "**Kelebihan**\n",
        "- Dapat diterapkan pada data kategorik dan numerik.  \n",
        "- Model lebih robust dan mencegah overfitting.  \n",
        "\n",
        "**Kekurangan**\n",
        "- Meningkatnya biaya kinerja perhitungan.  \n",
        "- Mengorbankan informasi.  \n",
        "- Untuk kolom data numerik, dapat menyebabkan redudansi untuk beberapa algoritma.  \n",
        "- Untuk kolom data kategorik, label dengan frekuensi rendah berdampak negatif pada robustness model statistik.  \n",
        "\n",
        "##### Discretization/Binning - Hands On Coding  \n",
        "Kita akan menggunakan dataset lagu spotify dengan fitur loudness untuk melakukan proses binning. Binning dilakukan menggunakan fungsi `pd.cut`. Fungsi ini akan membagi semua nilai yang ada di dalam sebuah fitur menjadi 3 (atau angka lain yang anda inginkan)  \n"
      ],
      "id": "cfcaf9df"
    },
    {
      "cell_type": "code",
      "metadata": {},
      "source": [
        "# muat data\n",
        "df = pd.read_csv('./data_sampled_100.csv')\n",
        "\n",
        "# binning data menjadi 5 kategori\n",
        "df['loudness'] = pd.cut(df['loudness'], bins=3, labels=[\n",
        "                        'sunyi', 'standar', 'bising'])\n",
        "\n",
        "# urutkan data berdasarkan fitur loudness\n",
        "df_sorted = df.sort_values(by='loudness')\n",
        "\n",
        "# visualisasikan data menggunakan histogram\n",
        "fig = px.histogram(df_sorted, x='loudness')\n",
        "fig.show()"
      ],
      "id": "91debf38",
      "execution_count": null,
      "outputs": []
    },
    {
      "cell_type": "markdown",
      "metadata": {},
      "source": [
        "#### Trimming  \n",
        "Trimming adalah proses penghapusan data yang dianggap sebagai outlier.  Trimming biasanya dilakukan berdasarkan presentase data yang akan di trim, contohnya 5%.  \n",
        "![Gambar11. Grafik Proses Trimming Dataset](./11.trimming.png)\n",
        "\n",
        "**Kelebihan**  \n",
        "- Cepat dan mudah  \n",
        "- Dapat memperbaiki rata-rata data  \n",
        "\n",
        "**Kekurangan**  \n",
        "- Hilangnya data yang dapat mengandung informasi  \n",
        "- Dapat menyebabkan bias terhadap variansi data  \n",
        "\n",
        "##### Trimming - Hands On Coding  \n",
        "Sangat penting untuk melakukan proses trimming hanya pada data tidak dibutuhkan/invalid. Oleh karena itu, proses trimming seharusnya dimulai dari angka yang sangat kecil, semisal 0.0001%. Jika outlier masih nampak, maka kita tambah presentasenya sedikit demi sedikit.  \n",
        "\n",
        "Dataset yang kita gunakan masih sama, yaitu lagu spotify dengan fitur loudness. Namun karena ukuran dataset kita cukup kecil, maka kita bisa gunakan presentase trimming 1%.  \n",
        "\n",
        "Pertama kita muat data, lalu kita sortir dataset.  \n"
      ],
      "id": "a83da096"
    },
    {
      "cell_type": "code",
      "metadata": {},
      "source": [
        "df = pd.read_csv('./data_sampled_100.csv')\n",
        "df_sorted = df.sort_values(by='loudness')\n",
        "df.head()"
      ],
      "id": "e02ccc8c",
      "execution_count": null,
      "outputs": []
    },
    {
      "cell_type": "markdown",
      "metadata": {},
      "source": [
        "Selanjutnya, kita ambil 1% dari data tersebut, hanya dari **tail** atau ujung belakang dari dataset. Nilai ini nantinya akan menjadi batas dari trimming kita.   \n"
      ],
      "id": "3fc2674b"
    },
    {
      "cell_type": "code",
      "metadata": {},
      "source": [
        "q = df['loudness'].sort_values().quantile(0.01)\n",
        "print(q)"
      ],
      "id": "14fd0c80",
      "execution_count": null,
      "outputs": []
    },
    {
      "cell_type": "markdown",
      "metadata": {},
      "source": [
        "Jadi batas dari trimming kita adalah `-27.3332`. Selanjutnya kita akan hilangkan data yang melebihi nilai ini.  \n"
      ],
      "id": "a198a5b0"
    },
    {
      "cell_type": "code",
      "metadata": {},
      "source": [
        "df = df[df['loudness'] > q]\n",
        "fig = px.scatter(df, x='loudness', y='popularity', color='loudness',\n",
        "                 hover_data=['artists', 'name', 'loudness', 'popularity'])\n",
        "fig.show()"
      ],
      "id": "a0340fc7",
      "execution_count": null,
      "outputs": []
    },
    {
      "cell_type": "markdown",
      "metadata": {},
      "source": [
        "Bisa dilihat bahwa lagu `Thursday Afternoon - 2005 digital remaster, oleh Brian Eno` yang mempunyai loudness kurang dari batas trimming sudah hilang.\n",
        "\n",
        "#### Winsorizing  \n",
        "Winsorizing adalah proses penggantian data outlier dengan nilai-nilai yang berada dalam distribusi yang ditentukan.  \n",
        "\n",
        "**Kelebihan**  \n",
        "- Mempertahankan informasi  \n",
        "- Mengurangi efek dari outlier  \n",
        "- Mudah diimplementasikan  \n",
        "\n",
        "**Kekurangan**  \n",
        "- Dapat menghasilkan bias  \n",
        "- Pemilihan presentil dapat mempengaruhi hasil analisis data  \n",
        "\n",
        "##### Winsorizing - Hands On Coding  \n",
        "Kita akan menggunakan dataset dan fitur yang sama, yaitu lagu spotify dengan fitur loudness. Pertama kita akan muat data, lalu tentukan batas data yang akan kita winsorize. Kita akan menggunakan nilai yang sama dengan metode sebelumnya(trimming) yaitu 1% dan batas trimming `-27.3332`.  \n"
      ],
      "id": "3b2bcfea"
    },
    {
      "cell_type": "code",
      "metadata": {},
      "source": [
        "df = pd.read_csv('./data_sampled_100.csv')\n",
        "df_sorted = df.sort_values(by='loudness')\n",
        "df.head()"
      ],
      "id": "9a3aa380",
      "execution_count": null,
      "outputs": []
    },
    {
      "cell_type": "markdown",
      "metadata": {},
      "source": [
        "Perbedaan utama antara trimming dan winsorizing adalah, di proses trimming, nilai dibawah batas dihilangkan, namun di proses winsorizing, nilai dibawah batas digantikan dengan nilai diantara quartil 1 dan quartil 3.\n",
        "\n",
        "Untuk itu, kita akan menggunakan box plot karena box plot sudah memberikan nilai high fence dan low fence secara langsung.\n"
      ],
      "id": "a6b17249"
    },
    {
      "cell_type": "code",
      "metadata": {},
      "source": [
        "fig = px.box(df, x='loudness')\n",
        "fig.show()"
      ],
      "id": "e37b8362",
      "execution_count": null,
      "outputs": []
    },
    {
      "cell_type": "markdown",
      "metadata": {},
      "source": [
        "Selanjutnya, kita akan menghitung berapa banyak data yang ada dibawah batas trimming  \n"
      ],
      "id": "2ebc624e"
    },
    {
      "cell_type": "code",
      "metadata": {},
      "source": [
        "q = df['loudness'].sort_values().quantile(0.01)\n",
        "outlier = df[df['loudness'] < q]\n",
        "outlier"
      ],
      "id": "40a19249",
      "execution_count": null,
      "outputs": []
    },
    {
      "cell_type": "markdown",
      "metadata": {},
      "source": [
        "Diketahui ada 1 buah outlier. Selanjutnya kita akan menentukan nilai q1 dan q3 sebagai batasan nilai winsorizing kita.  \n"
      ],
      "id": "59bcb320"
    },
    {
      "cell_type": "code",
      "metadata": {},
      "source": [
        "q1 = np.percentile(df['loudness'], 25)\n",
        "q3 = np.percentile(df['loudness'], 75)\n",
        "print(f'q1 = ',q1)\n",
        "print(f'q3 = ',q3)"
      ],
      "id": "23b28845",
      "execution_count": null,
      "outputs": []
    },
    {
      "cell_type": "markdown",
      "metadata": {},
      "source": [
        "Nilai q1 dan q3 ini akan kita gunakan untuk memberi batasan terhadap angka random yang akan kita generate sebagai nilai winsorizing kita.  \n"
      ],
      "id": "26183e2a"
    },
    {
      "cell_type": "code",
      "metadata": {},
      "source": [
        "import random\n",
        "import time\n",
        "\n",
        "#nilai n menyesuaikan jumlah data outlier\n",
        "outliercount = len(outlier)\n",
        "\n",
        "# generate random number\n",
        "random.seed(time.time_ns())\n",
        "winsorized_outlier = [random.randint(int(q1),int(q3)) for i in range(outliercount)]\n",
        "print(winsorized_outlier)"
      ],
      "id": "725eacb0",
      "execution_count": null,
      "outputs": []
    },
    {
      "cell_type": "markdown",
      "metadata": {},
      "source": [
        "Ingat, nilai ini di generate secara random, jadi nilai akan berubah setiap code di run.  \n",
        "Selanjutnya, kita akan memasukkan nilai winsorizing ke outlier, lalu masukkan outlier ke dataset kita.\n"
      ],
      "id": "bd076431"
    },
    {
      "cell_type": "code",
      "metadata": {},
      "source": [
        "for i in range(len(winsorized_outlier)):\n",
        "    outlier.iloc[i,12] = winsorized_outlier[i]\n",
        "\n",
        "# masukkan outlier ke dataset induk\n",
        "for i in range(len(outlier)):\n",
        "    id = outlier.iloc[i,8] # ambil ID dari data outlier\n",
        "    index = df[df['id'] == id].index[0] # cari index dari data outlier di dataset\n",
        "    df.iloc[index,12] = outlier.iloc[i,12] # gantikan dataset dengan outlier\n",
        "\n",
        "df = df.sort_values(by='loudness')\n",
        "display(df)"
      ],
      "id": "67657301",
      "execution_count": null,
      "outputs": []
    },
    {
      "cell_type": "markdown",
      "metadata": {},
      "source": [
        "#### Imputing  \n",
        "Imputing adalah proses penggantian data outlier dengan nilai-nilai yang diprediksi atau diestimasi berdasarkan karakteristik data. Teknik imputasi sudah di bahas secara detail di bab sebelumnya  \n",
        "\n",
        "**Kelebihan**  \n",
        "- Mempertahankan informasi dan ukuran sampel  \n",
        "- Meningkatkan akurasi analisis  \n",
        "\n",
        "**Kekurangan**  \n",
        "- Pemilihan metode dan implementasi bisa cukup sulit  \n",
        "- Berpotensi merusak distribusi data  \n",
        "\n",
        "\n",
        "#### Normalization  \n",
        "Adalah metode untuk mengubah skala nilai dalam dataset sehingga nilainya berkisar antara 0 dan 1. Untuk melakukan normalisasi data, kita membagi data berdasarkan nilai minimum dan maksimum dari data. Proses normalisasi baik digunakan untuk dataset yang mempunyai distribusi data non-normal atau tidak beraturan.  \n",
        "Rumus dari normalisasi adalah:  \n",
        "$$\n",
        "normalized_x = \\dfrac{x - min(x)}{max(x)-min(x)}\n",
        "$$\n",
        "\n",
        "**Kelebihan**  \n",
        "- Mempertahankan informasi dan ukuran sampel  \n",
        "- Meningkatkan akurasi analisis  \n",
        "- Mudah diimplementasikan  \n",
        "\n",
        "**Kekurangan**  \n",
        "- Metode harus sesuai dengan karakteristik data  \n",
        "- Tidak menghilangkan outlier secara langsung, hanya mengurangi efek dari outlier  \n",
        "\n",
        "\n",
        "##### Normalization - Hands On Coding  \n",
        "Kita akan menggunakan dataset lagu spotify dengan fitur loudness, mirip seperti bab-bab sebelumnya.  \n",
        "Pertama kita cek batasan-batasan data dari fitur loudness  \n"
      ],
      "id": "87b9c8c4"
    },
    {
      "cell_type": "code",
      "metadata": {},
      "source": [
        "df = pd.read_csv('./data_sampled_100.csv')\n",
        "df['loudness'].describe()"
      ],
      "id": "954595a5",
      "execution_count": null,
      "outputs": []
    },
    {
      "cell_type": "markdown",
      "metadata": {},
      "source": [
        "Diketahui bahwa batas minimum data adalah `31.808000`, dan batas maksimum data adalah `-2.478000`  \n",
        "Batas-batas data ini akan kita ubah menjadi 0 - 1 menggunakan metode normalization. Sebelumnya, kita cek distribusi dari data menggunakan plot histogram.  \n"
      ],
      "id": "cb80a13b"
    },
    {
      "cell_type": "code",
      "metadata": {},
      "source": [
        "fig = px.histogram(df, x='loudness')\n",
        "fig.show()"
      ],
      "id": "6a8a4821",
      "execution_count": null,
      "outputs": []
    },
    {
      "cell_type": "markdown",
      "metadata": {},
      "source": [
        "Lalu kita akan gunakan function minmax scaler untuk melakukan proses normalisasi terhadap data loudness.  \n"
      ],
      "id": "16c4de21"
    },
    {
      "cell_type": "code",
      "metadata": {},
      "source": [
        "from sklearn.preprocessing import MinMaxScaler\n",
        "\n",
        "# buat objek scaler\n",
        "scaler = MinMaxScaler()\n",
        "\n",
        "# transformasi data tempo menggunakan objek scaler\n",
        "df['loudness'] = scaler.fit_transform(df[['loudness']])\n",
        "\n",
        "# grafik histogram untuk fitur tempo\n",
        "fig = px.histogram(df, x='loudness')\n",
        "fig.show()"
      ],
      "id": "11111589",
      "execution_count": null,
      "outputs": []
    },
    {
      "cell_type": "markdown",
      "metadata": {},
      "source": [
        "Selanjutnya, kita cek batas-batas data dari data yang sudah di normalisasi.  \n"
      ],
      "id": "a196fbc0"
    },
    {
      "cell_type": "code",
      "metadata": {},
      "source": [
        "df['loudness'].describe()"
      ],
      "id": "9a5154ef",
      "execution_count": null,
      "outputs": []
    },
    {
      "cell_type": "markdown",
      "metadata": {},
      "source": [
        "Data telah ter-normalisasi! Namun, apa efek dari normalisasi selain mengubah rentang data? Efek yang paling umum adalah jarak data dari kedua ujung menjadi lebih sama-rata. Hal ini dapat menambah akurasi model machine learning.  \n",
        "\n",
        "#### Standarization / Z-Score  \n",
        "Standarisasi data adalah suatu proses dalam analisis data yang mengubah variabel-variabel menjadi memiliki rata-rata nol dan standar deviasi satu. Dalam standarisasi data, setiap nilai data dikurangi dengan rata-rata dari seluruh data, kemudian hasilnya dibagi dengan standar deviasi data. Dengan melakukan hal ini, nilai-nilai data akan berada pada skala yang relatif terhadap variabilitas data. Proses standarisasi menggunakan rumus sebagai berikut:  \n",
        "\n",
        "$$\n",
        "standardized_x = \\dfrac{x - mean(x)}{standard deviation(x)}\n",
        "$$\n",
        "\n",
        "**Kelebihan**  \n",
        "- Mean dan standar deviasi tidak berubah  \n",
        "- Tidak sensitif terhadap outlier   \n",
        "\n",
        "**Kekurangan**  \n",
        "- Tidak dapat menentukan batasan data  \n",
        "- Hasil dapat berupa angka negatif  \n",
        "\n",
        "##### Standardization / Z-score - Hands On Coding  \n",
        "Kita akan menggunakan dataset lagu spotify dengan fitur loudness, mirip seperti bab-bab sebelumnya.  \n",
        "Pertama kita cek batasan-batasan data dari fitur loudness  \n"
      ],
      "id": "f96a7d1e"
    },
    {
      "cell_type": "code",
      "metadata": {},
      "source": [
        "df = pd.read_csv('./data_sampled_100.csv')\n",
        "df['loudness'].describe()"
      ],
      "id": "9d5bb0fa",
      "execution_count": null,
      "outputs": []
    },
    {
      "cell_type": "code",
      "metadata": {},
      "source": [
        "fig = px.histogram(df, x='loudness')\n",
        "fig.show()"
      ],
      "id": "cc6b3cad",
      "execution_count": null,
      "outputs": []
    },
    {
      "cell_type": "markdown",
      "metadata": {},
      "source": [
        "Lalu kita akan gunakan function z-score scaler untuk melakukan proses normalisasi terhadap data loudness.  \n"
      ],
      "id": "ebcb84a2"
    },
    {
      "cell_type": "code",
      "metadata": {},
      "source": [
        "mean = round(np.mean(df['loudness']),2)\n",
        "std = round(np.std(df['loudness']),2)\n",
        "normalized=round((df['loudness']-mean)/std,2)\n",
        "\n",
        "print(f'mean = ', mean)\n",
        "print(f'std deviation = ', std)\n",
        "normalized.describe()"
      ],
      "id": "1fee5591",
      "execution_count": null,
      "outputs": []
    },
    {
      "cell_type": "markdown",
      "metadata": {},
      "source": [
        "Selanjutnya kita buat diagram histogramnya untuk mengecek perubahan distribusi data.  \n"
      ],
      "id": "65aa6f33"
    },
    {
      "cell_type": "code",
      "metadata": {},
      "source": [
        "fig = px.histogram(normalized, x=\"loudness\")\n",
        "fig.show()"
      ],
      "id": "b4f3aaf1",
      "execution_count": null,
      "outputs": []
    },
    {
      "cell_type": "markdown",
      "metadata": {},
      "source": [
        "Jika kita bandingkan histogram data asli dengan data yang di standarisasi, distribusi data tidak berbeda jauh. Selain itu, batas data minimal mengecil dari -31 menjadi -3, dan batas data maksimal membesar dari -2 menjadi 1.  \n",
        "\n",
        "## Dokumentasi Fitur  \n",
        "Dokumentasi data dapat menjembatani kesenjangan antara transaksi (pembuatan data) dan analisis (konsumsi data). Dokumentasi data yang baik memungkinkan pengguna, ataupun rekan tim untuk memahami siapa/apa/kapan/di mana/bagaimana/mengapa data tersebut dibentuk ataupun dikonsumsi.\n",
        "\n",
        "Secara umum, dokumentasi fitur dari sebuah dataset mempunyai beberapa poin, yaitu :  \n",
        "- Nama fitur  \n",
        "- Definisi  \n",
        "- Tipe data  \n",
        "- Skala  \n",
        "- Sumber data  \n",
        "- Keterangan  \n",
        "\n",
        "Mari kita lakukan sebuah dokumentasi fitur dari dataset spotify yang kita gunakan di slide sebelumnya. Dengan menggunakan code data.info() kita bisa mengetahui banyak hal tentang dataset kita  \n"
      ],
      "id": "2ee11cc9"
    },
    {
      "cell_type": "code",
      "metadata": {},
      "source": [
        "df = pd.read_csv('./data_sampled_100.csv')\n",
        "df.info()"
      ],
      "id": "ee8a1329",
      "execution_count": null,
      "outputs": []
    },
    {
      "cell_type": "markdown",
      "metadata": {},
      "source": [
        "### Nama Fitur  \n",
        "Fitur atau kolom adalah satuan data yang mendeskripsikan aspek tertentu dalam data. Di dalam dataset ini, kita mempunyai beberapa fitur, antara lain :  \n",
        "- Valence  \n",
        "- Year  \n",
        "- Acousticness  \n",
        "- Artists  \n",
        "- Danceability  \n",
        "- Duration_ms  \n",
        "- Energy  \n",
        "- Explicit  \n",
        "- ID  \n",
        "- Instrumentalness  \n",
        "- Key  \n",
        "- Liveness  \n",
        "- Loudness  \n",
        "- Mode  \n",
        "- Name  \n",
        "- Popularity  \n",
        "- Release_date  \n",
        "- Speechiness  \n",
        "- Tempo  \n",
        "\n",
        "### Definisi Fitur\n",
        "Setiap fitur mempunyai definisi atau penjelasan makna tertentu. Definisi yang ada di bawah hanya sebagian dari dataset saja. Untuk definisi keseluruhan data bisa dilihat di https://developer.spotify.com/documentation/web-api/reference/get-several-audio-features.  \n",
        "Beriku definisi fitur dari dataset :  \n",
        "- **name**, Nama lagu  \n",
        "- **artists**, Nama artis pembuat lagu  \n",
        "- **year**, Tahun rilis lagu  \n",
        "- **popularity**, Tingkat popularitas lagu. Nilai popularitas adalah antara 0 dan 100, dengan 100 menjadi nilai maksimal.  \n",
        "- **key**, adalah kunci lagu dari lagu tersebut. kunci lagu direpresentasikan menggunakan angka menurut Pitch Class Notation Standard. Misalnya, 0 = C, 1 = C♯/D♭, 2 = D, dan seterusnya. Jika tidak ada kunci, maka nilai -1.  \n",
        "- **mode**, Mode dari lagu tersebut. 1 = Major, 0 = Minor.  \n",
        "\n",
        "### Tipe Data  \n",
        "Tipe data sangatlah penting karena tipe data menentukan operasi atau function apa yang bisa dilakukan terhadap data tersebut. Sebagai contoh, untuk menentukan nilai random, kita tidak bisa menggunakan angka float (pecahan), kita harus menggunakan angka integer (bulat).  \n",
        "Kita dapat dengan mudah mengecek tipe data dari sebuah dataset menggunakan function `data.info()`  \n"
      ],
      "id": "00970092"
    },
    {
      "cell_type": "code",
      "metadata": {},
      "source": [
        "df = pd.read_csv('./data_sampled_100.csv')\n",
        "df.info()"
      ],
      "id": "330ef425",
      "execution_count": null,
      "outputs": []
    }
  ],
  "metadata": {
    "kernelspec": {
      "name": "python3",
      "language": "python",
      "display_name": "Python 3 (ipykernel)"
    }
  },
  "nbformat": 4,
  "nbformat_minor": 5
}